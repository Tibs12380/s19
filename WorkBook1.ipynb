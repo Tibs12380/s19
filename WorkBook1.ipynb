{
 "cells": [
  {
   "cell_type": "code",
   "execution_count": 1,
   "metadata": {
    "collapsed": true
   },
   "outputs": [],
   "source": [
    "%%bash\n",
    "cat <<_EOF_> whereami.sh\n",
    "#!/bin/bash\n",
    "\n",
    "echo \"You are in pwd\"\n",
    "_EOF_\n"
   ]
  },
  {
   "cell_type": "code",
   "execution_count": 2,
   "metadata": {
    "collapsed": false
   },
   "outputs": [
    {
     "name": "stdout",
     "output_type": "stream",
     "text": [
      "#!/bin/bash\n",
      "\n",
      "echo \"You are in pwd\"\n"
     ]
    }
   ],
   "source": [
    "%%bash\n",
    "cat whereami.sh"
   ]
  },
  {
   "cell_type": "code",
   "execution_count": 3,
   "metadata": {
    "collapsed": true
   },
   "outputs": [],
   "source": [
    "%%bash\n",
    "chmod u+x whereami.sh"
   ]
  },
  {
   "cell_type": "code",
   "execution_count": 4,
   "metadata": {
    "collapsed": false
   },
   "outputs": [
    {
     "name": "stdout",
     "output_type": "stream",
     "text": [
      "-rwxr--r-- 1 t00189181 Domain Users 35 Feb 10 11:46 whereami.sh\n"
     ]
    }
   ],
   "source": [
    "%%bash\n",
    "ls -l whereami.sh"
   ]
  },
  {
   "cell_type": "code",
   "execution_count": 5,
   "metadata": {
    "collapsed": false
   },
   "outputs": [
    {
     "name": "stdout",
     "output_type": "stream",
     "text": [
      "You are in pwd\n"
     ]
    }
   ],
   "source": [
    "%%bash\n",
    "./whereami.sh"
   ]
  },
  {
   "cell_type": "code",
   "execution_count": 6,
   "metadata": {
    "collapsed": true
   },
   "outputs": [],
   "source": [
    "%%bash\n",
    "cat <<_EOF_> whereami.sh\n",
    "#!/bin/bash\n",
    "\n",
    "pwd\n",
    "_EOF_"
   ]
  },
  {
   "cell_type": "code",
   "execution_count": 7,
   "metadata": {
    "collapsed": false
   },
   "outputs": [
    {
     "name": "stdout",
     "output_type": "stream",
     "text": [
      "#!/bin/bash\n",
      "\n",
      "pwd\n",
      "/home/t00189181\n"
     ]
    }
   ],
   "source": [
    "%%bash \n",
    "cat whereami.sh\n",
    "./whereami.sh"
   ]
  },
  {
   "cell_type": "code",
   "execution_count": 9,
   "metadata": {
    "collapsed": false
   },
   "outputs": [
    {
     "name": "stdout",
     "output_type": "stream",
     "text": [
      "You are in /home/t00189181\n"
     ]
    }
   ],
   "source": [
    "%%bash \n",
    "echo \"You are in $(pwd)\""
   ]
  },
  {
   "cell_type": "code",
   "execution_count": 10,
   "metadata": {
    "collapsed": false
   },
   "outputs": [
    {
     "name": "stdout",
     "output_type": "stream",
     "text": [
      "ls\n"
     ]
    }
   ],
   "source": [
    "%%bash\n",
    "echo \"ls\""
   ]
  },
  {
   "cell_type": "code",
   "execution_count": 11,
   "metadata": {
    "collapsed": false
   },
   "outputs": [
    {
     "name": "stdout",
     "output_type": "stream",
     "text": [
      "01_bash_setting_permissions.ipynb README.md s19 whereami.sh WorkBook1.ipynb\n"
     ]
    }
   ],
   "source": [
    "%%bash\n",
    "echo $(ls)\n"
   ]
  },
  {
   "cell_type": "code",
   "execution_count": 13,
   "metadata": {
    "collapsed": true
   },
   "outputs": [],
   "source": [
    "%%bash\n",
    "\n",
    "# I use command expansion to get the \n",
    "# text that I disply using echo\n",
    "cat <<_EOF_> whereami.sh\n",
    "#!/bin/bash\n",
    "\n",
    "echo \"You are in $(pwd)\"\n",
    "_EOF_"
   ]
  },
  {
   "cell_type": "code",
   "execution_count": 12,
   "metadata": {
    "collapsed": false
   },
   "outputs": [
    {
     "name": "stdout",
     "output_type": "stream",
     "text": [
      "You are in /home/t00189181\n"
     ]
    }
   ],
   "source": [
    "%%bash\n",
    "./whereami.sh"
   ]
  },
  {
   "cell_type": "code",
   "execution_count": null,
   "metadata": {
    "collapsed": true
   },
   "outputs": [],
   "source": []
  }
 ],
 "metadata": {
  "kernelspec": {
   "display_name": "Python 3",
   "language": "python",
   "name": "python3"
  },
  "language_info": {
   "codemirror_mode": {
    "name": "ipython",
    "version": 3
   },
   "file_extension": ".py",
   "mimetype": "text/x-python",
   "name": "python",
   "nbconvert_exporter": "python",
   "pygments_lexer": "ipython3",
   "version": "3.5.1"
  }
 },
 "nbformat": 4,
 "nbformat_minor": 0
}
